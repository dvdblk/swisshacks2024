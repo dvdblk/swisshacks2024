{
 "cells": [
  {
   "cell_type": "markdown",
   "source": [
    "# Fake Audio Detection\n",
    "### we use sota model from https://github.com/piotrkawa/deepfake-whisper-features based on the interspeech paper https://www.isca-speech.org/archive/interspeech_2023/kawa23b_interspeech.html "
   ],
   "metadata": {
    "collapsed": false
   },
   "id": "8062cf53b4da4e7a"
  },
  {
   "cell_type": "code",
   "execution_count": null,
   "outputs": [],
   "source": [
    "!git clone https://github.com/piotrkawa/deepfake-whisper-features.git"
   ],
   "metadata": {
    "collapsed": false
   },
   "id": "initial_id"
  },
  {
   "cell_type": "code",
   "execution_count": null,
   "outputs": [],
   "source": [
    "!mv deepfake-whisper-features/* ."
   ],
   "metadata": {
    "collapsed": false
   },
   "id": "c78e4bf138e7663f"
  },
  {
   "cell_type": "code",
   "execution_count": null,
   "outputs": [],
   "source": [
    "!apt-get -y install libsox-dev"
   ],
   "metadata": {
    "collapsed": false
   },
   "id": "8ad394d7d267d46e"
  },
  {
   "cell_type": "code",
   "execution_count": null,
   "outputs": [],
   "source": [
    "!pip install git+https://github.com/openai/whisper.git@7858aa9c08d98f75575035ecd6481f462d66ca27\n",
    "!pip install asteroid-filterbanks==0.4.0\n",
    "!pip install librosa==0.9.2"
   ],
   "metadata": {
    "collapsed": false
   },
   "id": "10b4665e4c7e7d2e"
  },
  {
   "cell_type": "code",
   "execution_count": null,
   "outputs": [],
   "source": [
    "!python download_whisper.py"
   ],
   "metadata": {
    "collapsed": false
   },
   "id": "f767d066a8b2be72"
  },
  {
   "cell_type": "code",
   "execution_count": null,
   "outputs": [],
   "source": [
    "import argparse\n",
    "import numpy as np\n",
    "import logging\n",
    "from pathlib import Path\n",
    "from typing import Dict, List, Optional, Union\n",
    "import sys\n",
    "import os\n",
    "import fnmatch\n",
    "import pandas as pd\n",
    "import csv\n",
    "\n",
    "import torch\n",
    "import torchaudio\n",
    "import yaml\n",
    "#from sklearn.metrics import precision_recall_fscore_support, roc_auc_score\n",
    "from torch.utils.data import DataLoader\n",
    "from torch.utils.data.dataset import T_co\n",
    "\n",
    "from src import metrics, commons\n",
    "from src.models import models\n",
    "from src.datasets.base_dataset import SimpleAudioFakeDataset,APPLY_NORMALIZATION,apply_preprocessing\n"
   ],
   "metadata": {
    "collapsed": false
   },
   "id": "27fefe9691b0af9d"
  },
  {
   "cell_type": "code",
   "execution_count": null,
   "outputs": [],
   "source": [
    "class SwissHacksDataset(SimpleAudioFakeDataset):\n",
    "\n",
    "    real_labels = [\"PASOTPBNLM\",\n",
    "                   \"H01FH3KEY8\",\n",
    "                   \"BJ53WB0WQB\",\n",
    "                   \"VWEQSW9GQY\",\n",
    "                   \"R18W797V9Q\",\n",
    "                   \"6W361V5VV9\",\n",
    "                   \"ZBKI0P43EK\",\n",
    "                   \"ROHDD0Z6CG\",\n",
    "                   \"2IM42LTT5R\",\n",
    "                   \"Y6K2JU2H4B\",\n",
    "                   \"CBDX295MEZ\",\n",
    "                   \"ZCB53KC2PC\",\n",
    "                   \"3162VQ31V7\",\n",
    "                   \"YDDKTODLGX\",\n",
    "                   \"XKG8C7QFXT\",\n",
    "                   \"1Z2W0U9OU8\",\n",
    "                   \"ZGZHPG1TS8\",\n",
    "                   \"244F8XZK0E\",\n",
    "                   \"7FPDGERPRV\",\n",
    "                   \"IIBWPCAJFZ\"]\n",
    "    fake_labels = [\"NSIOUFFN5C\",\n",
    "                   \"MIRV2AHSDH\",\n",
    "                   \"GE90UVYAIC\",\n",
    "                   \"GINYUH6NU7\",\n",
    "                   \"ASLJ66JRJL\",\n",
    "                   \"2TT75RT0RO\",\n",
    "                   \"FG1GU97VU5\",\n",
    "                   \"FI3U0S0S6X\",\n",
    "                   \"RLL2WGXJRT\",\n",
    "                   \"IU50O8RY55\",\n",
    "                   \"0D8CAOL7XN\",\n",
    "                   \"541T0I3AUW\",\n",
    "                   \"B5PN7WKKMI\",\n",
    "                   \"F68PGID9TU\",\n",
    "                   \"TC1N3OMAN3\",\n",
    "                   \"H6XNGJ7SCM\",\n",
    "                   \"9PS130EZ8T\",\n",
    "                   \"X8L6WJ0NDN\",\n",
    "                   \"7A8PVRXFLV\",\n",
    "                   \"12MINIG2V7\",\n",
    "                   ]\n",
    "\n",
    "    def __init__(\n",
    "            self,\n",
    "            path,\n",
    "            subset=\"train\",\n",
    "            transform=None,\n",
    "            seed=None,\n",
    "            partition_ratio=(1., 0.),\n",
    "            split_strategy=\"random\"\n",
    "    ):\n",
    "        super().__init__(subset=subset, transform=transform)\n",
    "        self.path = path\n",
    "        self.read_samples()\n",
    "        self.partition_ratio = partition_ratio\n",
    "        self.seed = seed\n",
    "\n",
    "\n",
    "    def read_samples(self):\n",
    "        path = Path(self.path)\n",
    "\n",
    "        # 0= real, 1 = fake , 2 = unknown\n",
    "        self.samples = []\n",
    "        #self.samples.append((\"/kaggle/input/swisshacks/12MINIG2V7.wav\",0,0))\n",
    "        # Pattern to match .wav files\n",
    "        pattern = '*.wav'\n",
    "\n",
    "        # Iterate over files in the directory\n",
    "        for file in os.listdir(\"/kaggle/input/swisshacks/\"):\n",
    "            if fnmatch.fnmatch(file, pattern):\n",
    "                # Do something with the file\n",
    "                #print(file)  # Example: Print the filename\n",
    "                label = 2\n",
    "                if file[:-4] in self.real_labels:\n",
    "                    label = 0\n",
    "                    print(\"real:\", file)\n",
    "                elif file[:-4] in self.fake_labels:\n",
    "                    label = 1\n",
    "                    print(\"fake:\", file)\n",
    "                self.samples.append([os.path.join(\"/kaggle/input/swisshacks/\",file), label, file[:-4]])\n",
    "\n",
    "    def __getitem__(self, index) -> T_co:\n",
    "        if isinstance(self.samples, pd.DataFrame):\n",
    "            sample = self.samples.iloc[index]\n",
    "\n",
    "            path = str(sample[\"path\"])\n",
    "            label = sample[\"label\"]\n",
    "            attack_type = sample[\"attack_type\"]\n",
    "            if type(attack_type) != str and math.isnan(attack_type):\n",
    "                attack_type = \"N/A\"\n",
    "        else:\n",
    "            path, label, attack_type = self.samples[index]\n",
    "\n",
    "        waveform, sample_rate = torchaudio.load(path, normalize=APPLY_NORMALIZATION)\n",
    "        real_sec_length = len(waveform[0]) / sample_rate\n",
    "\n",
    "        waveform, sample_rate = apply_preprocessing(waveform, sample_rate)\n",
    "\n",
    "        return_data = [waveform, sample_rate]\n",
    "        if self.return_label:\n",
    "            return_data.append(label)\n",
    "            return_data.append(attack_type)\n",
    "\n",
    "        if self.return_meta:\n",
    "            return_data.append(\n",
    "                (\n",
    "                    attack_type,\n",
    "                    path,\n",
    "                    self.subset,\n",
    "                    real_sec_length,\n",
    "                )\n",
    "            )\n",
    "        return return_data"
   ],
   "metadata": {
    "collapsed": false
   },
   "id": "f35ed9559f219e3f"
  },
  {
   "cell_type": "code",
   "execution_count": null,
   "outputs": [],
   "source": [
    "test_ds = SwissHacksDataset(\"\")\n",
    "test_ds[0]"
   ],
   "metadata": {
    "collapsed": false
   },
   "id": "34b593f13191965c"
  },
  {
   "cell_type": "markdown",
   "source": [
    "# Load Model"
   ],
   "metadata": {
    "collapsed": false
   },
   "id": "7102974929c8762c"
  },
  {
   "cell_type": "code",
   "execution_count": null,
   "outputs": [],
   "source": [
    "if torch.cuda.is_available():\n",
    "    device = \"cuda\"\n",
    "else:\n",
    "    device = \"cpu\"\n",
    "config_file = \"/kaggle/working/configs/finetuning/whisper_frontend_mesonet.yaml\"\n",
    "with open(config_file, \"r\") as f:\n",
    "    config = yaml.safe_load(f)\n",
    "\n",
    "seed = config[\"data\"].get(\"seed\", 42)\n",
    "# fix all seeds - this should not actually change anything\n",
    "commons.set_seed(seed)"
   ],
   "metadata": {
    "collapsed": false
   },
   "id": "674a9d8684e33ea8"
  },
  {
   "cell_type": "code",
   "execution_count": null,
   "outputs": [],
   "source": [
    "batch_size = 1\n",
    "model_config=config[\"model\"]\n",
    "model_name, model_parameters = model_config[\"name\"], model_config[\"parameters\"]\n",
    "# Load model architecture\n",
    "model = models.get_model(\n",
    "    model_name=model_name,\n",
    "    config=model_parameters,\n",
    "    device=device,\n",
    ")\n",
    "model_paths=\"/kaggle/input/mesonet_whisper_mfcc_finetuned/pytorch/mesonet_whisper_mfcc_finetuned/1/mesonet_whisper_mfcc_finetuned/mesonet_whisper_mfcc_finetuned.pth\" #config[\"checkpoint\"].get(\"path\", [])\n",
    "model.load_state_dict(torch.load(model_paths,map_location=device))\n",
    "model = model.to(device)"
   ],
   "metadata": {
    "collapsed": false
   },
   "id": "379bea83aadd12b5"
  },
  {
   "cell_type": "markdown",
   "source": [
    "# Export CSV"
   ],
   "metadata": {
    "collapsed": false
   },
   "id": "1deb1209f6fd334f"
  },
  {
   "cell_type": "code",
   "execution_count": null,
   "outputs": [],
   "source": [
    "model.eval()\n",
    "same_results = []\n",
    "result_matrix = np.zeros([40,2])\n",
    "selected_result = 0\n",
    "csv_file = \"fake_audio_classification_results.csv\"\n",
    "with open(csv_file, 'w', newline='') as file:\n",
    "    writer = csv.writer(file, delimiter=',')\n",
    "    writer.writerow([\"ID\",\"PROVIDED_LABEL\",\"PREDICTION\",\"FINAL_LABEL\"])\n",
    "\n",
    "    for sample_idx in range(len(test_ds)):\n",
    "        batch_x,_, label, recording_id = test_ds[sample_idx]\n",
    "        #print(u)\n",
    "        #print(label)\n",
    "        batch_x = batch_x.unsqueeze(0)\n",
    "        batch_pred = model(batch_x).squeeze(1)\n",
    "        batch_pred = torch.sigmoid(batch_pred)\n",
    "        batch_pred_label = (batch_pred + 0.5).int()\n",
    "        pred_label = batch_pred_label[0].item()\n",
    "        #same_results.append(batch_pred_label[0].item()==label)\n",
    "        #result_matrix[selected_result,label]=int(batch_pred_label[0].item()==label)\n",
    "        #selected_result+=1\n",
    "        final_label = label if label!=2 else pred_label\n",
    "        writer.writerow([recording_id,label,pred_label,final_label])"
   ],
   "metadata": {
    "collapsed": false
   },
   "id": "4d4d4a7471e66a8a"
  },
  {
   "cell_type": "code",
   "execution_count": null,
   "outputs": [],
   "source": [],
   "metadata": {
    "collapsed": false
   },
   "id": "de47e415cbfd1406"
  },
  {
   "cell_type": "markdown",
   "source": [],
   "metadata": {
    "collapsed": false
   },
   "id": "f0027926dcea06c4"
  }
 ],
 "metadata": {
  "kernelspec": {
   "display_name": "Python 3",
   "language": "python",
   "name": "python3"
  },
  "language_info": {
   "codemirror_mode": {
    "name": "ipython",
    "version": 2
   },
   "file_extension": ".py",
   "mimetype": "text/x-python",
   "name": "python",
   "nbconvert_exporter": "python",
   "pygments_lexer": "ipython2",
   "version": "2.7.6"
  }
 },
 "nbformat": 4,
 "nbformat_minor": 5
}
